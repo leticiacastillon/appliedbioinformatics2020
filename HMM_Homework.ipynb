{
  "nbformat": 4,
  "nbformat_minor": 0,
  "metadata": {
    "colab": {
      "name": "Copy of  BBT045_HMM_Homework.ipynb",
      "provenance": [],
      "collapsed_sections": [],
      "toc_visible": true,
      "include_colab_link": true
    },
    "kernelspec": {
      "name": "python3",
      "display_name": "Python 3"
    }
  },
  "cells": [
    {
      "cell_type": "markdown",
      "metadata": {
        "id": "view-in-github",
        "colab_type": "text"
      },
      "source": [
        "<a href=\"https://colab.research.google.com/github/leticiacastillon/appliedbioinformatics2020/blob/master/HMM_Homework.ipynb\" target=\"_parent\"><img src=\"https://colab.research.google.com/assets/colab-badge.svg\" alt=\"Open In Colab\"/></a>"
      ]
    },
    {
      "cell_type": "markdown",
      "metadata": {
        "id": "6kUt2W7fIhWV",
        "colab_type": "text"
      },
      "source": [
        "# Instructions\n",
        "\n",
        "For this homework, your task is to build an HMM model for annotating S. cerevisiae.\n",
        "Please read through the instructions before you start, to best plan your work.\n",
        "\n",
        "The work is split up in:\n",
        "\n",
        "1. getting baseline results with the HMM-based tool [Augustus](http://bioinf.uni-greifswald.de/augustus/) \n",
        "2. reading a little reference material on HMM gene prediction\n",
        "3. building and training your HMM\n",
        "4. comparing with the baseline\n",
        "\n",
        "Parts 1 can be done after 2 and 3, though it's perhaps best to have the results ready\n",
        "and to look over them a bit.\n",
        "For the last 2 points, helper Python code is provided to make the job easier.\n",
        "\n",
        "## 1. Baseline Results\n",
        "\n",
        "**Note** This step can take some time (~30 min if the server isn't under heavy load).\n",
        "\n",
        "For this part, you will need to run Augustus on the server, where it's already installed.\n",
        "\n",
        "Grab a copy of the *S. cerevisiae* reference genome (from either the HMM or UNIX exercises).\n",
        "Then run Augustus as below (adjust if you've named your directories differently)\n",
        "\n",
        "```bash\n",
        "augustus data/S288C_reference_sequence_R64-2-1_20150113.fsa \\\n",
        "\t--species=saccharomyces_cerevisiae_S288C \\\n",
        "\t--progress=True > results/ref_annot_augustus.gff\n",
        "```\n",
        "\n",
        "The output will be a [GFF](https://www.ensembl.org/info/website/upload/gff3.html) file.\n",
        "It looks like this:\n",
        "\n",
        "```\n",
        "# Predicted genes for sequence number 1 on both strands\n",
        "# start gene g1\n",
        "ref|NC_001133|  AUGUSTUS        gene    1807    2169    1       -       .       g1\n",
        "ref|NC_001133|  AUGUSTUS        transcript      1807    2169    1       -       .       g1.t1\n",
        "ref|NC_001133|  AUGUSTUS        stop_codon      1807    1809    .       -       0       transcript_id \"g1.t1\"; gene_id \"g1\";\n",
        "ref|NC_001133|  AUGUSTUS        CDS     1810    2169    1       -       0       transcript_id \"g1.t1\"; gene_id \"g1\";\n",
        "ref|NC_001133|  AUGUSTUS        start_codon     2167    2169    .       -       0       transcript_id \"g1.t1\"; gene_id \"g1\";\n",
        "# protein sequence = [MVKLTSIAAGVAAIAATASATTTLAQSDERVNLVELGVYVSDIRAHLAQYYMFQAAHPTETYPVEVAEAVFNYGDFTT\n",
        "# MLTGIAPDQVTRMITGVPWYSSRLKPAISSALSKDGIYTIAN]\n",
        "# end gene g1\n",
        "```\n",
        "\n",
        "Augustus basically lists all found genes one after the other, with the various sections marked.\n",
        "It also gives the protein sequence as a comment.\n",
        "Columns to note are:\n",
        "\n",
        "1. seqID = chromosome ID\n",
        "3. type of feature\n",
        "4. start position of feature\n",
        "5. end pos. of feat.\n",
        "\n",
        "Extract the protein sequences into a FASTA file. This will be used to search your results against.\n",
        "\n",
        "```bash\n",
        "getAnnoFasta.pl results/ref_annot_augustus.gff\n",
        "```\n",
        "\n",
        "This will create a file called `results/ref_annot_augustus.aa`\n",
        "\n",
        "## 2. Literature\n",
        "\n",
        "Read at least the 2 references below (a few pages), to recap the concepts and to get maybe get a model as your starting point.\n",
        "\n",
        "Please very **briefly describe your chosen model**. Why did you or the authors chose the sates you did? Did the authors mention why they chose the probabilities they did? If you created your own model, how did you decide the probabilities?\n",
        "\n",
        "References:\n",
        "\n",
        "* Quick recap of gene annotation with HMMs, along with a simple example model \n",
        "  [What is a hidden Markov model?](https://www.nature.com/articles/nbt1004-1315)\n",
        "\n",
        "* Some lecture slides from the University of Waterloo (pages 1-14 cover models like we've discussed). \n",
        "  You could use the model on page 9 as a starting point\n",
        "  https://www.math.uwaterloo.ca/~aghodsib/courses/w05stat440/w05stat440-notes/feb27.pdf\n",
        "\n",
        "* Yet another article describing a number of HMM classes for sequence analysis\n",
        "  The model in 2.2. (Fig. 1) could also be a starting point\n",
        "  https://www.ncbi.nlm.nih.gov/pmc/articles/PMC2766791/\n",
        "\n",
        "\n",
        "## 3. Build and train your model\n",
        "\n",
        "The simple 2-state model from the lecture is provided for you as an example how to work with this Python package. Your task is to construct a more complex / realistic model based on either the literature review in 2 (or Google) or your own ideas.\n",
        "\n",
        "You can use whatever model you like as a starting point and make it as complex as you wish.\n",
        "Remember however that at the end, you're supposed to distinguish genes, so interpreting just\n",
        "a binary coding / non-coding annotation is tricky.\n",
        "\n",
        "Keep in mind that the training algorithms only converge to a local optimum and\n",
        "that the convergence criteria can be tweaked. \n",
        "Starting with different random seeds will also produce different results.\n",
        "\n",
        "The S. cerevisiae reference has 17 chromosomes. \n",
        "Ideally, you should **train on all of them**, but depending on the model complexity and parameters,\n",
        "this might take a lot of time. It's up to you how and what to compromise on.\n",
        "The important thing is that you implement the entire procedure for your model.\n",
        "\n",
        "You can save trained models: https://hmmlearn.readthedocs.io/en/latest/tutorial.html#saving-and-loading-hmm\n",
        "And in Google Colab you can connect (\"mount\") your Drive to the notebook environment,\n",
        "then you can save to it (the folder called \"drive/\").\n",
        "Otherwise **all files disappear** from the notebook environment once you disconnect.\n",
        "\n",
        "\n",
        "## 4. Compare you results with the baseline\n",
        "\n",
        "To test, it's **sufficient to annotate chromosome 1**\n",
        "\n",
        "You'll primarily be concerned with the length distribution of the proteins coded by the genes you identify with your model. It should be similar to the distribution of Augustust results (and real gene data).\n",
        "\n",
        "The **last step** involves blasting the protein sequences of your genes against a reference, provided you've found long enough proteins to search for. In that sense, this last part is **optional** since the important thing for you is to build a working model, regarldess how well you do against state-of-the-art software :)  For this, you can either use the Augustus FASTA created as baseline or a yeas proteome fetched from https://www.uniprot.org/ . See the last step here on how to blast sequences: https://mpbio-bbt015.github.io/gene-prediction-exercise.html\n",
        "\n",
        "\n",
        "**Note** that the function provided for you to extract gene positions requires\n",
        "a regular expression (pattern) that describes what a gene looks like given the hidden states\n",
        "you chose. If you have trouble adjusting it for your model, get in touch with us since regexes were\n",
        "not covered in the course. \n",
        "If you want to experiment, https://regex101.com/ is a great size that tests and analyzes regexes\n",
        "\n",
        "\n",
        "\n",
        "\n"
      ]
    },
    {
      "cell_type": "markdown",
      "metadata": {
        "id": "HZ5t8RAzRuxx",
        "colab_type": "text"
      },
      "source": [
        "# Setup\n",
        "\n",
        "This setup section needs to be run every time you connect to this notebook, as the environment it runs in is volatile (no software you install or files you create will be saved, unless you transfer the latter to your Drive)"
      ]
    },
    {
      "cell_type": "markdown",
      "metadata": {
        "id": "27CpJlmDTDsR",
        "colab_type": "text"
      },
      "source": [
        "Install packages:\n",
        "\n",
        "* [hmmlearn](https://hmmlearn.readthedocs.io/en/latest/index.html) \n",
        "* [Biopython](https://biopython.org/) - for working with bio sequences\n",
        "* gffutils - for parsing GFF files"
      ]
    },
    {
      "cell_type": "code",
      "metadata": {
        "id": "-W_VCOC0yPTC",
        "colab_type": "code",
        "outputId": "efa371a6-b7d4-4da2-eba8-cf316b5d4807",
        "colab": {
          "base_uri": "https://localhost:8080/",
          "height": 768
        }
      },
      "source": [
        "%%bash\n",
        "\n",
        "pip install hmmlearn\n",
        "pip install biopython\n",
        "pip install gffutils"
      ],
      "execution_count": 1,
      "outputs": [
        {
          "output_type": "stream",
          "text": [
            "Collecting hmmlearn\n",
            "  Downloading https://files.pythonhosted.org/packages/ff/7b/33f629a443a0671161c019e55c3f1b511c7e9fdce5ab8c8c3c33470eb939/hmmlearn-0.2.3-cp36-cp36m-manylinux1_x86_64.whl (363kB)\n",
            "Requirement already satisfied: scikit-learn>=0.16 in /usr/local/lib/python3.6/dist-packages (from hmmlearn) (0.22.2.post1)\n",
            "Requirement already satisfied: numpy>=1.10 in /usr/local/lib/python3.6/dist-packages (from hmmlearn) (1.18.1)\n",
            "Requirement already satisfied: scipy>=0.15 in /usr/local/lib/python3.6/dist-packages (from hmmlearn) (1.4.1)\n",
            "Requirement already satisfied: joblib>=0.11 in /usr/local/lib/python3.6/dist-packages (from scikit-learn>=0.16->hmmlearn) (0.14.1)\n",
            "Installing collected packages: hmmlearn\n",
            "Successfully installed hmmlearn-0.2.3\n",
            "Collecting biopython\n",
            "  Downloading https://files.pythonhosted.org/packages/83/3d/e0c8a993dbea1136be90c31345aefc5babdd5046cd52f81c18fc3fdad865/biopython-1.76-cp36-cp36m-manylinux1_x86_64.whl (2.3MB)\n",
            "Requirement already satisfied: numpy in /usr/local/lib/python3.6/dist-packages (from biopython) (1.18.1)\n",
            "Installing collected packages: biopython\n",
            "Successfully installed biopython-1.76\n",
            "Collecting gffutils\n",
            "  Downloading https://files.pythonhosted.org/packages/87/d6/f893f14fd6cf1c9e758259f6e0f9ba1ae03370988d8f1a3ea8d790ca5b06/gffutils-0.10.1.tar.gz (1.5MB)\n",
            "Collecting pyfaidx>=0.5.5.2\n",
            "  Downloading https://files.pythonhosted.org/packages/d9/eb/bca4c916d2cde775b5127cef22f276142b01e89fc31fecd832ed996dc97e/pyfaidx-0.5.8.tar.gz\n",
            "Requirement already satisfied: six>=1.12.0 in /usr/local/lib/python3.6/dist-packages (from gffutils) (1.12.0)\n",
            "Collecting argh>=0.26.2\n",
            "  Downloading https://files.pythonhosted.org/packages/06/1c/e667a7126f0b84aaa1c56844337bf0ac12445d1beb9c8a6199a7314944bf/argh-0.26.2-py2.py3-none-any.whl\n",
            "Collecting argcomplete>=1.9.4\n",
            "  Downloading https://files.pythonhosted.org/packages/82/7d/455e149c28c320044cb763c23af375bd77d52baca041f611f5c2b4865cf4/argcomplete-1.11.1-py2.py3-none-any.whl\n",
            "Collecting simplejson\n",
            "  Downloading https://files.pythonhosted.org/packages/98/87/a7b98aa9256c8843f92878966dc3d8d914c14aad97e2c5ce4798d5743e07/simplejson-3.17.0.tar.gz (83kB)\n",
            "Requirement already satisfied: setuptools>=0.7 in /usr/local/lib/python3.6/dist-packages (from pyfaidx>=0.5.5.2->gffutils) (45.2.0)\n",
            "Requirement already satisfied: importlib-metadata<2,>=0.23; python_version == \"3.6\" in /usr/local/lib/python3.6/dist-packages (from argcomplete>=1.9.4->gffutils) (1.5.0)\n",
            "Requirement already satisfied: zipp>=0.5 in /usr/local/lib/python3.6/dist-packages (from importlib-metadata<2,>=0.23; python_version == \"3.6\"->argcomplete>=1.9.4->gffutils) (3.1.0)\n",
            "Building wheels for collected packages: gffutils, pyfaidx, simplejson\n",
            "  Building wheel for gffutils (setup.py): started\n",
            "  Building wheel for gffutils (setup.py): finished with status 'done'\n",
            "  Created wheel for gffutils: filename=gffutils-0.10.1-cp36-none-any.whl size=1608578 sha256=b16e31092746e41b485dbefad7f6a43bb472b3ee3c0e142668621fe3dd09067d\n",
            "  Stored in directory: /root/.cache/pip/wheels/52/c8/8c/5b5edef863b51b00f822fd7783608ea7a09b4ab75b87226479\n",
            "  Building wheel for pyfaidx (setup.py): started\n",
            "  Building wheel for pyfaidx (setup.py): finished with status 'done'\n",
            "  Created wheel for pyfaidx: filename=pyfaidx-0.5.8-cp36-none-any.whl size=25051 sha256=2fe67f58aef3615be4f8898443368276d9acf562c4845ede269c3b158d9ca9bc\n",
            "  Stored in directory: /root/.cache/pip/wheels/58/ea/ee/59d4649b0fb82a0690bdeae834bc85891b306126bcc067e29f\n",
            "  Building wheel for simplejson (setup.py): started\n",
            "  Building wheel for simplejson (setup.py): finished with status 'done'\n",
            "  Created wheel for simplejson: filename=simplejson-3.17.0-cp36-cp36m-linux_x86_64.whl size=114202 sha256=2431c08c5c6db4ab8aa0b0c0bac79e3703512e4e0e975823ef88f4ffdfd69cc1\n",
            "  Stored in directory: /root/.cache/pip/wheels/86/c0/83/dcd0339abb2640544bb8e0938aab2d069cef55e5647ce6e097\n",
            "Successfully built gffutils pyfaidx simplejson\n",
            "Installing collected packages: pyfaidx, argh, argcomplete, simplejson, gffutils\n",
            "Successfully installed argcomplete-1.11.1 argh-0.26.2 gffutils-0.10.1 pyfaidx-0.5.8 simplejson-3.17.0\n"
          ],
          "name": "stdout"
        }
      ]
    },
    {
      "cell_type": "markdown",
      "metadata": {
        "id": "Gi61QZrJTINC",
        "colab_type": "text"
      },
      "source": [
        "Download *S. cerevisiae* reference genome and put it in a directory called `data`"
      ]
    },
    {
      "cell_type": "code",
      "metadata": {
        "id": "R63byp6J21qH",
        "colab_type": "code",
        "outputId": "c50dc235-7c7a-4877-a01a-ec474fdeed24",
        "colab": {
          "base_uri": "https://localhost:8080/",
          "height": 170
        }
      },
      "source": [
        "%%bash\n",
        "\n",
        "wget --quiet https://downloads.yeastgenome.org/sequence/S288C_reference/genome_releases/S288C_reference_genome_Current_Release.tgz\n",
        "tar -xzvf S288C_reference_genome_Current_Release.tgz\n",
        "mv S288C_reference_genome_R64-2-1_20150113 data\n",
        "rm S288C_reference_genome_Current_Release.tgz"
      ],
      "execution_count": 3,
      "outputs": [
        {
          "output_type": "stream",
          "text": [
            "S288C_reference_genome_R64-2-1_20150113/\n",
            "S288C_reference_genome_R64-2-1_20150113/rna_coding_R64-2-1_20150113.fasta\n",
            "S288C_reference_genome_R64-2-1_20150113/NotFeature_R64-2-1_20150113.fasta\n",
            "S288C_reference_genome_R64-2-1_20150113/orf_coding_all_R64-2-1_20150113.fasta\n",
            "S288C_reference_genome_R64-2-1_20150113/other_features_genomic_R64-2-1_20150113.fasta\n",
            "S288C_reference_genome_R64-2-1_20150113/S288C_reference_sequence_R64-2-1_20150113.fsa\n",
            "S288C_reference_genome_R64-2-1_20150113/gene_association_R64-2-1_20150113.sgd\n",
            "S288C_reference_genome_R64-2-1_20150113/orf_trans_all_R64-2-1_20150113.fasta\n",
            "S288C_reference_genome_R64-2-1_20150113/saccharomyces_cerevisiae_R64-2-1_20150113.gff\n"
          ],
          "name": "stdout"
        }
      ]
    },
    {
      "cell_type": "markdown",
      "metadata": {
        "id": "YAb90N9jSJhX",
        "colab_type": "text"
      },
      "source": [
        "## Import packages and define some helper functions\n",
        "\n",
        "hmmlearn is popular and has good performance but it's slighly trickier to work with. It doesn't use labels for states or emissions, just their index in the model (e.g. emission 0, 1, 2.. regardless of labels A, T, C G). Below are 2 functions to translate back and forth from numbers to symbols.\n",
        "\n",
        "To extract genes from an annotation sequence (e.g. NNNCCCNNN), the approach here\n",
        "is to extract patterns assumed to be genes from the full annotation using regular expressions . A function for that is provided.\n"
      ]
    },
    {
      "cell_type": "code",
      "metadata": {
        "id": "OuYjvZtbyA1M",
        "colab_type": "code",
        "colab": {}
      },
      "source": [
        "# Python built-ins\n",
        "import re\n",
        "import time\n",
        "import pickle\n",
        "\n",
        "# Installed packages\n",
        "import numpy as np\n",
        "from hmmlearn import hmm\n",
        "from Bio import SeqIO\n",
        "\n",
        "\n",
        "def translate_symbol_sequence_to_numbers(symbol_sequence: str, symbol_alphabet: list) -> list:\n",
        "    \"\"\"\n",
        "    Translate emission symbols to numbers so that the HMM model can work with them\n",
        "    \"\"\"\n",
        "    translation_table = {symbol_alphabet[i]: i \n",
        "                         for i in range(len(symbol_alphabet))}\n",
        "    return [translation_table[symbol] for symbol in symbol_sequence]\n",
        "\n",
        "\n",
        "def translate_numbers_to_symbol_sequence(number_sequence: list, symbol_alphabet: list) -> str:\n",
        "    \"\"\"\n",
        "    Translate HMM hidden state numbers into symbols\n",
        "    \"\"\"\n",
        "    symbols = [symbol_alphabet[x] for x in number_sequence]\n",
        "    return ''.join(symbols)\n",
        "\n",
        "\n",
        "def get_gene_start_and_stop_from_annotation(annotation: str, gene_pattern: str) -> list:\n",
        "    \"\"\"\n",
        "    Return a list of (start_pos, end_pos) pairs for found genes.\n",
        "\n",
        "    Needs a regular expression (gene_pattern) that describes what a gene looks like\n",
        "    in terms of hidden states.\n",
        "    \n",
        "    Example:   \n",
        "        gene_pattern = 'C+'   # a sequence which consists of at least one C\n",
        "        annotation = 'NNCCNCCN'\n",
        "        \n",
        "        returns [(2, 4), (5, 7)]\n",
        "    \"\"\"\n",
        "    gene_positions = []\n",
        "    for match in re.finditer(gene_pattern, annotation):\n",
        "        gene_positions.append(match.span())\n",
        "    return gene_positions\n"
      ],
      "execution_count": 0,
      "outputs": []
    },
    {
      "cell_type": "markdown",
      "metadata": {
        "id": "z8vijJd2SUUg",
        "colab_type": "text"
      },
      "source": [
        "# Example: The basic (2-state) model\n",
        "\n",
        "The `hmmlearn` package provides a few HMM model classes. The one matching the basic kind we've covered is the `MultinomialHMM`.\n",
        "\n",
        "Below is the same basic model we've seen in the lecture and exercise, provided to show how to use the package.\n",
        "\n",
        "Skim through the short hmmlearn [tutorial](\n",
        "https://hmmlearn.readthedocs.io/en/latest/tutorial.html) to fix some concepts if the code/comments below are confusing.\n",
        "\n"
      ]
    },
    {
      "cell_type": "code",
      "metadata": {
        "id": "aIfov6hNyKHS",
        "colab_type": "code",
        "outputId": "e6a3838a-fa35-4c0a-d150-41208fa7e927",
        "colab": {
          "base_uri": "https://localhost:8080/",
          "height": 68
        }
      },
      "source": [
        "hidden_states = ['C', 'N']               # Called \"components\" in this package\n",
        "emission_labels = ['A', 'T', 'C', 'G']   # Called \"fatures\"\n",
        "\n",
        "# Maximum n. iterations performed during training.\n",
        "# The training will stop at this regardless of how close it is to convergence (i.e. best fit to data)\n",
        "# Increasing will increase chances of a better fit but will of course take longer\n",
        "MAX_N_BAUM_WELCH_ITERATIONS = 10\n",
        "\n",
        "# Create model object\n",
        "basic_model = hmm.MultinomialHMM(n_components = len(hidden_states),\n",
        "                                 n_iter = MAX_N_BAUM_WELCH_ITERATIONS)\n",
        "\n",
        "# Adjust its parameters\n",
        "basic_model.n_features = len(emission_labels)\n",
        "\n",
        "# Order of elements must match those in the component and features lists above\n",
        "basic_model.startprob_ = np.array([0.3, 0.7])\n",
        "basic_model.transmat_ = np.array([[0.995, 0.005],\n",
        "                                  [0.01,  0.99]])\n",
        "\n",
        "# The matrix is expected to be of shape (rows=states x cols=emissions)\n",
        "# Here it's transposed from the form used in lecture slides\n",
        "basic_model.emissionprob_ = np.array([[0.3, 0.1],\n",
        "                                      [0.3, 0.1],\n",
        "                                      [0.2, 0.4],\n",
        "                                      [0.2, 0.4]]).T\n",
        "\n",
        "# Preview\n",
        "basic_model"
      ],
      "execution_count": 0,
      "outputs": [
        {
          "output_type": "execute_result",
          "data": {
            "text/plain": [
              "MultinomialHMM(algorithm='viterbi', init_params='ste', n_components=2,\n",
              "               n_iter=10, params='ste', random_state=None, startprob_prior=1.0,\n",
              "               tol=0.01, transmat_prior=1.0, verbose=False)"
            ]
          },
          "metadata": {
            "tags": []
          },
          "execution_count": 34
        }
      ]
    },
    {
      "cell_type": "markdown",
      "metadata": {
        "id": "X-Acda5tTlwE",
        "colab_type": "text"
      },
      "source": [
        "Load reference genome (full chromosome sequences):"
      ]
    },
    {
      "cell_type": "code",
      "metadata": {
        "id": "vQ9J2tGwUiqy",
        "colab_type": "code",
        "colab": {}
      },
      "source": [
        "ref_chromosomes = list(SeqIO.parse('data/S288C_reference_sequence_R64-2-1_20150113.fsa', 'fasta'))"
      ],
      "execution_count": 0,
      "outputs": []
    },
    {
      "cell_type": "markdown",
      "metadata": {
        "id": "4v0zsVTJTuqi",
        "colab_type": "text"
      },
      "source": [
        "## Prepare training data\n",
        "\n",
        "`hmmlearn` wants training sequences to be columns in a matrix. So here we structure the chromosome sequences that way, also converting from symbolic to numeric representation. \n",
        "\n",
        "For more details: https://hmmlearn.readthedocs.io/en/latest/tutorial.html#multiple-sequences"
      ]
    },
    {
      "cell_type": "code",
      "metadata": {
        "id": "uX-uDnF5SUyu",
        "colab_type": "code",
        "colab": {}
      },
      "source": [
        "# Include k chromosomes in training data\n",
        "training_chromosome_idx = [0, 1]\n",
        "\n",
        "trainig_data = np.concatenate(\n",
        "    [np.array(\n",
        "        translate_symbol_sequence_to_numbers(ref_chromosomes[k].seq, emission_labels)\n",
        "        ).reshape(-1, 1)  # makes it a column vector\n",
        "     for k in training_chromosome_idx]\n",
        ")\n",
        "\n",
        "trainig_lengths = [len(ref_chromosomes[k].seq) for k in training_chromosome_idx]\n",
        "\n",
        "# Test on chromosome 1\n",
        "test_data = np.array(\n",
        "    [translate_symbol_sequence_to_numbers(ref_chromosomes[0].seq, emission_labels)]\n",
        ").T"
      ],
      "execution_count": 0,
      "outputs": []
    },
    {
      "cell_type": "markdown",
      "metadata": {
        "id": "Vs8KldRevNqP",
        "colab_type": "text"
      },
      "source": [
        "The ubiquitous [NumPy](https://numpy.org/devdocs/user/quickstart.html) package is used to work with matrices and vectors. It was created as an imitation of Matlab so some thing should be familiar. But if you want to change the code and you get stuck, let us know! "
      ]
    },
    {
      "cell_type": "markdown",
      "metadata": {
        "id": "4zYkzznkUL0p",
        "colab_type": "text"
      },
      "source": [
        "## Train model \n",
        "\n",
        "The `.fit()` function is used as below. We fix the random seed to get the same results between runs. This can be changed to see how the algorithm converges differently based on initialization.\n",
        "\n",
        "For more details: https://hmmlearn.readthedocs.io/en/latest/api.html#hmmlearn.base._BaseHMM.fit"
      ]
    },
    {
      "cell_type": "code",
      "metadata": {
        "id": "oOv_QkqDSMTy",
        "colab_type": "code",
        "outputId": "f420fb36-b2da-495f-89ac-ab17faf0ba9c",
        "colab": {
          "base_uri": "https://localhost:8080/",
          "height": 34
        }
      },
      "source": [
        "t0 = time.time()    # this is just to measure execution time (nothing to do with hmmlearn)\n",
        "np.random.seed(42)  # Make this randomized procedure deterministic (reproducible)\n",
        "\n",
        "basic_model.fit(trainig_data, trainig_lengths)\n",
        "\n",
        "print(f'Training took {time.time() - t0} seconds')"
      ],
      "execution_count": 0,
      "outputs": [
        {
          "output_type": "stream",
          "text": [
            "Training took 49.746464252471924 seconds\n"
          ],
          "name": "stdout"
        }
      ]
    },
    {
      "cell_type": "markdown",
      "metadata": {
        "id": "DPrIVnjqxroK",
        "colab_type": "text"
      },
      "source": [
        "## Annotate chromosome\n",
        "\n",
        "Use the trained model to annotate our test chromosome with C or N (coding or non-coding nucleobase). The `.predict()` function is used."
      ]
    },
    {
      "cell_type": "code",
      "metadata": {
        "id": "G-aQrt5JSE61",
        "colab_type": "code",
        "outputId": "e3b9a1e4-0a84-4755-d65e-ba0f3b31f469",
        "colab": {
          "base_uri": "https://localhost:8080/",
          "height": 54
        }
      },
      "source": [
        "annotation_numeric = basic_model.predict(test_data)  # numbers == hidden state number\n",
        "annotation = translate_numbers_to_symbol_sequence(annotation_numeric, hidden_states)\n",
        "\n",
        "# Preview first 100 annotated bases\n",
        "annotation[0:500]"
      ],
      "execution_count": 0,
      "outputs": [
        {
          "output_type": "execute_result",
          "data": {
            "text/plain": [
              "'CCCCCCCCCCCCCCCCCCCCCCCCCCCCCCCCCCCCCCCCCCCCCCCCCCCCCCCCCCCCCCCCCCCCCCCCCCCCCCCCCCCNCCCCCCCCCCCCCCCNNCCCCCCCNCCCCCCCCCCCCCCCCCCCCCCCCCCNCCCCCCCCCNCCCCCCCNCCCCCCCCCCCCCCCCCCCCCCNCCCCCCCCCCCCCCCCCCCCCCCCCCCCCCCCCCCCCCCCNCCCCCCCCCCCCCCCCCCCCCCCCCCCCCCCNCCCCCCCCCCCCCCCCCCCCCCCCCCCCCCCCCCNCCCCCCCCCCCCCCCCNCCCCCCCCCCCCCCCCCCCNCCCCNCCCCCCCCCNCCCNCCCCCCCCCCCCCCNCNCCCCCCCCCCCCCCCCCCCCCCCCCCCCCCCNCCCCCCCCCCCCCCCCCCNCCCCCCNCCCCCCCNCCCNCCCCCNNCCNCCCCCNCCCCCCCCCCCCCCCCCCCCCCCCCCCCCCCNCCCCCCCCCCCCCCCCCNNCCCCC'"
            ]
          },
          "metadata": {
            "tags": []
          },
          "execution_count": 37
        }
      ]
    },
    {
      "cell_type": "markdown",
      "metadata": {
        "id": "6PK2I2x0n3Yi",
        "colab_type": "text"
      },
      "source": [
        "Now let's **extract genes**\n",
        "\n",
        "In our very simple model, we know \"genes\" are stretches of coding bases (obviously wrong because a bunch of coding groups of bases like CCCNNCCC could be exons in the same gene).\n",
        "\n",
        "So we get the start and end positions (indices) for all such patterns of multiple 'C's."
      ]
    },
    {
      "cell_type": "code",
      "metadata": {
        "id": "Phe8BYIGn6hv",
        "colab_type": "code",
        "outputId": "7329c080-3a19-492d-c89d-d08c79695dfa",
        "colab": {
          "base_uri": "https://localhost:8080/",
          "height": 34
        }
      },
      "source": [
        "gene_positions = get_gene_start_and_stop_from_annotation(annotation, \n",
        "                                                         gene_pattern = 'C+')\n",
        "\n",
        "# Preview gene positions\n",
        "gene_positions[0:4]"
      ],
      "execution_count": 0,
      "outputs": [
        {
          "output_type": "execute_result",
          "data": {
            "text/plain": [
              "[(0, 83), (84, 99), (101, 108), (109, 135)]"
            ]
          },
          "metadata": {
            "tags": []
          },
          "execution_count": 39
        }
      ]
    },
    {
      "cell_type": "markdown",
      "metadata": {
        "id": "SjsEdEKnq0rz",
        "colab_type": "text"
      },
      "source": [
        "**Question** Do these positions resemble the Augustus results?\n",
        "\n",
        "**Not really** ! This model is simplistic and the training consistsed of only a few iterations over only 2 chromosomes."
      ]
    },
    {
      "cell_type": "markdown",
      "metadata": {
        "id": "WUXyO7BSqfj1",
        "colab_type": "text"
      },
      "source": [
        "## Inspect results"
      ]
    },
    {
      "cell_type": "markdown",
      "metadata": {
        "id": "bPye_xcUbMuy",
        "colab_type": "text"
      },
      "source": [
        "### Transcribe and translate found genes to protein sequences\n",
        "\n",
        "Let's see if we were able to recover protein-coding genes!\n",
        "We'll use the Biopython sequence manipulation functionality.\n",
        "\n",
        "Remember we're working with chromosome 1  (indexed with 0 in our collection since Python lists are 0-indexed).\n",
        "\n",
        "Biopython will warn you when it's given a sequence that can't be propely translated."
      ]
    },
    {
      "cell_type": "code",
      "metadata": {
        "id": "_QpeBnurpYM8",
        "colab_type": "code",
        "outputId": "5c859523-b1cc-4da1-ca20-951324593965",
        "colab": {
          "base_uri": "https://localhost:8080/",
          "height": 88
        }
      },
      "source": [
        "def translate_genes(gene_positions: list, dna_sequence) -> list:\n",
        "    aa_sequences = []\n",
        "    for gene_pos in gene_positions:\n",
        "        aa = dna_sequence[gene_pos[0] : gene_pos[1]].transcribe().translate()\n",
        "        aa_sequences.append(aa)\n",
        "    return aa_sequences\n",
        "\n",
        "aa_sequences = translate_genes(gene_positions, ref_chromosomes[0].seq)\n",
        "\n",
        "# Preview\n",
        "aa_sequences[0]"
      ],
      "execution_count": 52,
      "outputs": [
        {
          "output_type": "stream",
          "text": [
            "/usr/local/lib/python3.6/dist-packages/Bio/Seq.py:2859: BiopythonWarning: Partial codon, len(sequence) not a multiple of three. Explicitly trim the sequence or add trailing N before translation. This may become an error in future.\n",
            "  BiopythonWarning,\n"
          ],
          "name": "stderr"
        },
        {
          "output_type": "execute_result",
          "data": {
            "text/plain": [
              "Seq('PHHTHTPTHHTTHHTTPTHTHPNTTLTQP*SNPGQPVSQLTLHYPASTRYPVPF...*HT', HasStopCodon(ExtendedIUPACProtein(), '*'))"
            ]
          },
          "metadata": {
            "tags": []
          },
          "execution_count": 52
        }
      ]
    },
    {
      "cell_type": "markdown",
      "metadata": {
        "id": "2Ok4-oK0r7RN",
        "colab_type": "text"
      },
      "source": [
        "### Look at the protein length distribution\n",
        "\n",
        "(FYI: We're sneaking in the `pandas` package (already installed in Colab), which has become the standard Python package for data analysis.\n",
        "It's very similar to R's `tidyverse` and `data.table`. But here it's just used for convenient plotting)"
      ]
    },
    {
      "cell_type": "code",
      "metadata": {
        "id": "KX-5Yw2w8KtY",
        "colab_type": "code",
        "outputId": "3a7cadcc-641f-4cbd-90f4-4afd41be6c2b",
        "colab": {
          "base_uri": "https://localhost:8080/",
          "height": 281
        }
      },
      "source": [
        "def plot_protein_length_distribution(aa_sequences: list):\n",
        "    import pandas as pd\n",
        "    pd.DataFrame({'gene length': map(lambda s: len(s), aa_sequences)}).hist(log=True)\n",
        "\n",
        "plot_protein_length_distribution(aa_sequences)"
      ],
      "execution_count": 0,
      "outputs": [
        {
          "output_type": "display_data",
          "data": {
            "image/png": "[encoded data removed]",
            "text/plain": [
              "<Figure size 432x288 with 1 Axes>"
            ]
          },
          "metadata": {
            "tags": []
          }
        }
      ]
    },
    {
      "cell_type": "markdown",
      "metadata": {
        "id": "nxT7xooTspld",
        "colab_type": "text"
      },
      "source": [
        "### Compare with baseline\n",
        "\n",
        "Load the protein FASTA exported by Augusts (in **Task 1**) and plot the protein length distribution.\n",
        "\n",
        "You can use the function below to read the fasta once you upload it to Drive."
      ]
    },
    {
      "cell_type": "code",
      "metadata": {
        "id": "t9Wxw47yszLR",
        "colab_type": "code",
        "colab": {}
      },
      "source": [
        "def read_protein_sequences_from_fasta(fasta_filename: str) -> list:\n",
        "     return list(SeqIO.parse(fasta_filename, 'fasta'))"
      ],
      "execution_count": 0,
      "outputs": []
    },
    {
      "cell_type": "markdown",
      "metadata": {
        "id": "0D6k3Ao8syoO",
        "colab_type": "text"
      },
      "source": [
        "#### Optional: Save to FASTA and blastp\n",
        "\n",
        "We can save the protein sequences to a FASTA file, download it, upload it to the server and blast it against the Augustus FASTA file.\n",
        "For blasting, see the last part here: https://mpbio-bbt015.github.io/gene-prediction-exercise.html"
      ]
    },
    {
      "cell_type": "code",
      "metadata": {
        "id": "cJqrsSW3E28Q",
        "colab_type": "code",
        "outputId": "267bf5d7-e752-4dc0-eecc-a0131a433f5f",
        "colab": {
          "base_uri": "https://localhost:8080/",
          "height": 34
        }
      },
      "source": [
        "def save_sequences_as_fasta(sequences: list, fasta_filename: str):\n",
        "    fasta_entries = []\n",
        "    for i in range(len(sequences)):\n",
        "        if len(sequences[i]) > 20:   # shortest known protein in any organism\n",
        "            fasta_entries.append(f'>gene{i}\\n{sequences[i]}\\n')\n",
        "    with open(fasta_filename, 'w') as output_fasta:\n",
        "        output_fasta.writelines(fasta_entries)\n",
        "    print(f'INFO: Wrote {len(fasta_entries)} protein sequences')\n",
        "\n",
        "save_sequences_as_fasta(aa_sequences, 'hits.fasta')"
      ],
      "execution_count": 0,
      "outputs": [
        {
          "output_type": "stream",
          "text": [
            "INFO: Wrote 4 protein sequences\n"
          ],
          "name": "stdout"
        }
      ]
    },
    {
      "cell_type": "markdown",
      "metadata": {
        "id": "bLWQfnByvYBx",
        "colab_type": "text"
      },
      "source": [
        "```\n",
        "\n",
        "\n",
        "\n",
        "\n",
        "\n",
        "\n",
        "\n",
        "```"
      ]
    },
    {
      "cell_type": "markdown",
      "metadata": {
        "id": "fICvPlh8th9l",
        "colab_type": "text"
      },
      "source": [
        "## Assignment: Build a better HMM\n",
        "\n",
        "Your turn! Create a better HMM using the example and code provided and try your best to get better results. \n",
        "\n",
        "How well can you do against Augustus? :)  (the important thing is to build + use the model so don't worry about matching it - just aim to improve results)\n",
        "\n",
        "Remember:\n",
        "\n",
        "* very briefly describe your model\n",
        "* try to train on all chromosomes (adjust the code)\n",
        "* try to tweak training paramenters (like max n. iterations) to get a better fit to training data\n",
        "* try different random seeds\n",
        "* perhaps try different training algorithms? hmmlearn provides an alternative to Viterbi.\n",
        "* You can **save trained models to a file**! Very usedul if you've spend a lot of time training. (Colab clears everything when it disconnects). See here https://hmmlearn.readthedocs.io/en/latest/tutorial.html#saving-and-loading-hmm\n",
        "\n",
        "\n",
        "**Have fun!**\n"
      ]
    },
    {
      "cell_type": "markdown",
      "metadata": {
        "id": "0af1R91n4hzd",
        "colab_type": "text"
      },
      "source": [
        "![xkcd](https://imgs.xkcd.com/comics/machine_learning.png)"
      ]
    },
    {
      "cell_type": "markdown",
      "metadata": {
        "id": "TiM6FTjmi-S9",
        "colab_type": "text"
      },
      "source": [
        "#########TRYING TO IMPROVE THE MODEL##############\n"
      ]
    },
    {
      "cell_type": "code",
      "metadata": {
        "id": "PIvO5q684ooT",
        "colab_type": "code",
        "outputId": "faf0a2af-ef8c-4818-dd06-d0cbba23a6b3",
        "colab": {
          "base_uri": "https://localhost:8080/",
          "height": 68
        }
      },
      "source": [
        " #Trying to build a better HMM model\n",
        " hidden_states = ['I', 'E', 'Ig']               # Called \"components\" in this package\n",
        "emission_labels = ['A', 'T', 'C', 'G']   # Called \"fatures\"\n",
        "\n",
        "# Maximum n. iterations performed during training.\n",
        "# The training will stop at this regardless of how close it is to convergence (i.e. best fit to data)\n",
        "# Increasing will increase chances of a better fit but will of course take longer\n",
        "MAX_N_BAUM_WELCH_ITERATIONS = 80\n",
        "\n",
        "# Create model object\n",
        "basic_model = hmm.MultinomialHMM(n_components = len(hidden_states),\n",
        "                                 n_iter = MAX_N_BAUM_WELCH_ITERATIONS,\n",
        "                                 init_params = \"\")\n",
        "\n",
        "# Adjust its parameters\n",
        "basic_model.n_features = len(emission_labels)\n",
        "\n",
        "# Order of elements must match those in the component and features lists above\n",
        "basic_model.startprob_ = np.array([0.2, 0.3, 0.5])\n",
        "basic_model.transmat_ = np.array([[0.99, 0.01, 0],\n",
        "                                  [0.007,  0.99, 0.003],\n",
        "                                  [0, 0.001, 0.999]])\n",
        "\n",
        "# The matrix is expected to be of shape (rows=states x cols=emissions)\n",
        "# Here it's transposed from the form used in lecture slides\n",
        "basic_model.emissionprob_ = np.array([[0.26, 0.24, 0.27],\n",
        "                                      [0.3, 0.21, 0.27],\n",
        "                                      [0.22, 0.27, 0.23],\n",
        "                                      [0.22, 0.28, 0.22]]).T\n",
        "\n",
        "# Preview\n",
        "basic_model"
      ],
      "execution_count": 39,
      "outputs": [
        {
          "output_type": "execute_result",
          "data": {
            "text/plain": [
              "MultinomialHMM(algorithm='viterbi', init_params='', n_components=3, n_iter=80,\n",
              "               params='ste', random_state=None, startprob_prior=1.0, tol=0.01,\n",
              "               transmat_prior=1.0, verbose=False)"
            ]
          },
          "metadata": {
            "tags": []
          },
          "execution_count": 39
        }
      ]
    },
    {
      "cell_type": "markdown",
      "metadata": {
        "id": "omLHiucQjFts",
        "colab_type": "text"
      },
      "source": [
        "I chose the emission probabilities from the lecture from the University of Waterloo. The starting probabilities aim to reflect that it is more likely to start in a non coding region since non-coding regions are very abundant in eukaryotic genomes. The probability should be a big higher than 0.5, but I wanted to use this as a starting point. I also tried to add a bit more of complexity by using introns and exons, and I gave them a similar probability, although slightly higher for exons because I think it is more likely that a gene starts with an exon than an intron. "
      ]
    },
    {
      "cell_type": "code",
      "metadata": {
        "id": "GQo6a19FExkz",
        "colab_type": "code",
        "colab": {}
      },
      "source": [
        ""
      ],
      "execution_count": 0,
      "outputs": []
    },
    {
      "cell_type": "code",
      "metadata": {
        "id": "1od7eifsExUT",
        "colab_type": "code",
        "colab": {}
      },
      "source": [
        "#Preparation of training data\n",
        "# Include k chromosomes in training data\n",
        "training_chromosome_idx = [0, 1, 2, 3]\n",
        "\n",
        "trainig_data = np.concatenate(\n",
        "    [np.array(\n",
        "        translate_symbol_sequence_to_numbers(ref_chromosomes[k].seq, emission_labels)\n",
        "        ).reshape(-1, 1)  # makes it a column vector\n",
        "     for k in training_chromosome_idx]\n",
        ")\n",
        "\n",
        "trainig_lengths = [len(ref_chromosomes[k].seq) for k in training_chromosome_idx]\n",
        "\n",
        "# Test on chromosome 1\n",
        "test_data = np.array(\n",
        "    [translate_symbol_sequence_to_numbers(ref_chromosomes[0].seq, emission_labels)]\n",
        ").T"
      ],
      "execution_count": 0,
      "outputs": []
    },
    {
      "cell_type": "code",
      "metadata": {
        "id": "yldMO2UpE1pL",
        "colab_type": "code",
        "outputId": "524fd2e7-6d2d-45dc-e5ad-2e7dd98718c6",
        "colab": {
          "base_uri": "https://localhost:8080/",
          "height": 34
        }
      },
      "source": [
        "#Training\n",
        "t0 = time.time()    # this is just to measure execution time (nothing to do with hmmlearn)\n",
        "np.random.seed(84)  # Make this randomized procedure deterministic (reproducible)\n",
        "\n",
        "basic_model.fit(trainig_data, trainig_lengths)\n",
        "\n",
        "print(f'Training took {time.time() - t0} seconds')"
      ],
      "execution_count": 41,
      "outputs": [
        {
          "output_type": "stream",
          "text": [
            "Training took 1434.3676676750183 seconds\n"
          ],
          "name": "stdout"
        }
      ]
    },
    {
      "cell_type": "code",
      "metadata": {
        "id": "yRPuR_o7E_GR",
        "colab_type": "code",
        "outputId": "072d9efd-d2c3-4762-f5c0-6dcdf4d88d40",
        "colab": {
          "base_uri": "https://localhost:8080/",
          "height": 54
        }
      },
      "source": [
        "#Annotation\n",
        "annotation_numeric = basic_model.predict(test_data)  # numbers == hidden state number\n",
        "annotation = translate_numbers_to_symbol_sequence(annotation_numeric, hidden_states)\n",
        "\n",
        "# Preview first 100 annotated bases\n",
        "annotation[0:1000]"
      ],
      "execution_count": 42,
      "outputs": [
        {
          "output_type": "execute_result",
          "data": {
            "text/plain": [
              "'EEEEEEEEEEEEEEEEEEEEEEEEEEEEEEEEEEEEEEEEEEEEEEEEEEEEEEEEEEEEEEEEEEEEEEEEEEEEEEEEEEEEIIIIIIIIIIIIIIIIIIIIIIIIIIIIIIIIIIIIIIIIIIIIIIIIIIIIIIIIIIIIIIIIIIIIIIIIIIIIIIIIIIIIIIIIIIIIIIIIIIIIIIIIIIIIIIIIIIIIIIIIIIIIIIIIIIIIIIIIIIIIIIIIIIIIIIIIIIIIIIIIIIIIIIIIIIIIIIIIIIIIIIIIIIIIIIIIIIIIIIIIIIIIIIIIIIIIIIIIIIIIIIIIIIIIIIIIIIIIIIIIIIIIIIIIIIIIIIIIIIIIIIIIIIIIIIIIIIIIIIIIIIIIIIIIIIIIIIIIIIIIIIIIIIIIIIIIIIIIIIIIIIIIIIIIIIIIIIIIIIIIIIIIIIIIIIIIIIIIIIIIIIIIIIIIIIIIIIIIIIIIIIIIIIIIIIIIIIIIIIIIIIIIIIIIIIIIIIIIIIIIIIIIIIIIIIIIIIIIIIIIIIIIIIIIIIIIIIIIIIIIIIIIIIIIIIIIIIIIIIIIIIIIIIIIIIIIIIIIIIIIIIIIIIIIIIIIIIIIIIIIIIIIIIIIIIIIIIIIIIIIIIIIIIIIIIIIEEEIgIgIgIgIgIgIgIgIgIgIgIgIgIgIgIgIgIgIgIgIgIgIgIgIgIgIgIgIgIgIgIgIgIgIgIgIgIgIgIgIgIgIgIgIgIgIgIgIgIgIgIgIgIgIgIgIgIgIgIgIgIgIgIgIgIgIgIgIgIgIgIgIgIgIgIgIgIgIgIgIgIgIgIgIgIgIgIgIgIgIgIgIgIgIgIgIgIgIgIgIgIgIgIgIgIgIgIgIgIgIgIgIgIgIgIgIgIgIgIgIgIgIgIgIgIgIgIgIgIgIgIgIgIgIgIgIgIgIgIgIgIgIgIgIgIgIgIgIgIgIgIgIgIgIgIgIgIgIgIgIgIgIgIgIgIgIgIgIgIgIgIgIgIgIgIgIgIgIgIgI'"
            ]
          },
          "metadata": {
            "tags": []
          },
          "execution_count": 42
        }
      ]
    },
    {
      "cell_type": "code",
      "metadata": {
        "id": "reHtQ_fxWlGE",
        "colab_type": "code",
        "outputId": "597aa6bd-40e3-47c6-c980-18e04c93fa0a",
        "colab": {
          "base_uri": "https://localhost:8080/",
          "height": 34
        }
      },
      "source": [
        "gene_positions = get_gene_start_and_stop_from_annotation(annotation, \n",
        "                                                         gene_pattern = 'E+I+')\n",
        "\n",
        "# Preview gene positions\n",
        "gene_positions[0:4]"
      ],
      "execution_count": 43,
      "outputs": [
        {
          "output_type": "execute_result",
          "data": {
            "text/plain": [
              "[(0, 636), (636, 640), (25085, 25359), (47106, 47525)]"
            ]
          },
          "metadata": {
            "tags": []
          },
          "execution_count": 43
        }
      ]
    },
    {
      "cell_type": "code",
      "metadata": {
        "id": "A_ZxTMjtWqIW",
        "colab_type": "code",
        "outputId": "71d12601-c0e4-432d-9a59-0871d88c6273",
        "colab": {
          "base_uri": "https://localhost:8080/",
          "height": 88
        }
      },
      "source": [
        "def translate_genes(gene_positions: list, dna_sequence) -> list:\n",
        "    aa_sequences = []\n",
        "    for gene_pos in gene_positions:\n",
        "        aa = dna_sequence[gene_pos[0] : gene_pos[1]].transcribe().translate()\n",
        "        aa_sequences.append(aa)\n",
        "    return aa_sequences\n",
        "\n",
        "aa_sequences = translate_genes(gene_positions, ref_chromosomes[0].seq)\n",
        "\n",
        "# Preview\n",
        "aa_sequences[0]"
      ],
      "execution_count": 44,
      "outputs": [
        {
          "output_type": "stream",
          "text": [
            "/usr/local/lib/python3.6/dist-packages/Bio/Seq.py:2859: BiopythonWarning: Partial codon, len(sequence) not a multiple of three. Explicitly trim the sequence or add trailing N before translation. This may become an error in future.\n",
            "  BiopythonWarning,\n"
          ],
          "name": "stderr"
        },
        {
          "output_type": "execute_result",
          "data": {
            "text/plain": [
              "Seq('PHHTHTPTHHTTHHTTPTHTHPNTTLTQP*SNPGQPVSQLTLHYPASTRYPVPF...GGP', HasStopCodon(ExtendedIUPACProtein(), '*'))"
            ]
          },
          "metadata": {
            "tags": []
          },
          "execution_count": 44
        }
      ]
    },
    {
      "cell_type": "code",
      "metadata": {
        "id": "WxjIq0DGWrbr",
        "colab_type": "code",
        "outputId": "10f43492-cab1-4d20-db86-33ef14b71712",
        "colab": {
          "base_uri": "https://localhost:8080/",
          "height": 281
        }
      },
      "source": [
        "def plot_protein_length_distribution(aa_sequences: list):\n",
        "    import pandas as pd\n",
        "    pd.DataFrame({'gene length': map(lambda s: len(s), aa_sequences)}).hist(log=True)\n",
        "\n",
        "plot_protein_length_distribution(aa_sequences)"
      ],
      "execution_count": 45,
      "outputs": [
        {
          "output_type": "display_data",
          "data": {
            "image/png": "[encoded data removed]",
            "text/plain": [
              "<Figure size 432x288 with 1 Axes>"
            ]
          },
          "metadata": {
            "tags": []
          }
        }
      ]
    },
    {
      "cell_type": "markdown",
      "metadata": {
        "id": "IGWH4JcYwVuK",
        "colab_type": "text"
      },
      "source": [
        "\n",
        "With 3 chromosomes, 84 random seeds and 50 iterations the results look quite similar than with 42 iterations and/or 2 chromosomes, but the gene legth distribution does change. We get a range from 0-1000 which seems a bit more realistic than what we had before (0-25), although still considerably shorter than what is expected for a S. cerevisiae gene, which is on average 1.6 kb long (https://bionumbers.hms.harvard.edu/bionumber.aspx?id=101458&ver=1). Also, most sequences are below 200 so the distribution is still skewed towards very short fragments. "
      ]
    },
    {
      "cell_type": "code",
      "metadata": {
        "id": "AWf3UT_-9x7E",
        "colab_type": "code",
        "colab": {
          "base_uri": "https://localhost:8080/",
          "height": 352
        },
        "outputId": "95045c23-d860-4d37-c386-c816b85c882b"
      },
      "source": [
        " #Trying to build a better HMM model\n",
        " hidden_states = ['I', 'E', 'Ig']               # Called \"components\" in this package\n",
        "emission_labels = ['A', 'T', 'C', 'G']   # Called \"fatures\"\n",
        "\n",
        "# Maximum n. iterations performed during training.\n",
        "# The training will stop at this regardless of how close it is to convergence (i.e. best fit to data)\n",
        "# Increasing will increase chances of a better fit but will of course take longer\n",
        "MAX_N_BAUM_WELCH_ITERATIONS = 80\n",
        "\n",
        "# Create model object\n",
        "basic_model = hmm.MultinomialHMM(n_components = len(hidden_states),\n",
        "                                 n_iter = MAX_N_BAUM_WELCH_ITERATIONS,\n",
        "                                 init_params = \"\")\n",
        "\n",
        "# Adjust its parameters\n",
        "basic_model.n_features = len(emission_labels)\n",
        "\n",
        "# Order of elements must match those in the component and features lists above\n",
        "basic_model.startprob_ = np.array([0.2, 0.3, 0.5])\n",
        "basic_model.transmat_ = np.array([[0.99, 0.01, 0],\n",
        "                                  [0.007,  0.99, 0.003],\n",
        "                                  [0, 0.001, 0.999]])\n",
        "\n",
        "# The matrix is expected to be of shape (rows=states x cols=emissions)\n",
        "# Here it's transposed from the form used in lecture slides\n",
        "basic_model.emissionprob_ = np.array([[0.26, 0.24, 0.27],\n",
        "                                      [0.3, 0.21, 0.27],\n",
        "                                      [0.22, 0.27, 0.23],\n",
        "                                      [0.22, 0.28, 0.22]]).T\n",
        "\n",
        "# Preview\n",
        "basic_model\n",
        "#Preparation of training data\n",
        "# Include k chromosomes in training data\n",
        "training_chromosome_idx = [0, 1, 2, 3, 4, 5]\n",
        "\n",
        "trainig_data = np.concatenate(\n",
        "    [np.array(\n",
        "        translate_symbol_sequence_to_numbers(ref_chromosomes[k].seq, emission_labels)\n",
        "        ).reshape(-1, 1)  # makes it a column vector\n",
        "     for k in training_chromosome_idx]\n",
        ")\n",
        "\n",
        "trainig_lengths = [len(ref_chromosomes[k].seq) for k in training_chromosome_idx]\n",
        "\n",
        "# Test on chromosome 1\n",
        "test_data = np.array(\n",
        "    [translate_symbol_sequence_to_numbers(ref_chromosomes[0].seq, emission_labels)]\n",
        ").T\n",
        "#Training\n",
        "t0 = time.time()    # this is just to measure execution time (nothing to do with hmmlearn)\n",
        "np.random.seed(84)  # Make this randomized procedure deterministic (reproducible)\n",
        "\n",
        "basic_model.fit(trainig_data, trainig_lengths)\n",
        "\n",
        "print(f'Training took {time.time() - t0} seconds')\n",
        "#Annotation\n",
        "annotation_numeric = basic_model.predict(test_data)  # numbers == hidden state number\n",
        "annotation = translate_numbers_to_symbol_sequence(annotation_numeric, hidden_states)\n",
        "\n",
        "# Preview first 100 annotated bases\n",
        "annotation[0:1000]\n",
        "\n",
        "gene_positions = get_gene_start_and_stop_from_annotation(annotation, \n",
        "                                                         gene_pattern = 'E+I+')\n",
        "\n",
        "# Preview gene positions\n",
        "gene_positions[0:4]\n",
        "\n",
        "def translate_genes(gene_positions: list, dna_sequence) -> list:\n",
        "    aa_sequences = []\n",
        "    for gene_pos in gene_positions:\n",
        "        aa = dna_sequence[gene_pos[0] : gene_pos[1]].transcribe().translate()\n",
        "        aa_sequences.append(aa)\n",
        "    return aa_sequences\n",
        "\n",
        "aa_sequences = translate_genes(gene_positions, ref_chromosomes[0].seq)\n",
        "\n",
        "# Preview\n",
        "aa_sequences[0]\n",
        "\n",
        "def plot_protein_length_distribution(aa_sequences: list):\n",
        "    import pandas as pd\n",
        "    pd.DataFrame({'gene length': map(lambda s: len(s), aa_sequences)}).hist(log=True)\n",
        "\n",
        "plot_protein_length_distribution(aa_sequences)"
      ],
      "execution_count": 49,
      "outputs": [
        {
          "output_type": "stream",
          "text": [
            "Training took 1864.0024154186249 seconds\n"
          ],
          "name": "stdout"
        },
        {
          "output_type": "stream",
          "text": [
            "/usr/local/lib/python3.6/dist-packages/Bio/Seq.py:2859: BiopythonWarning: Partial codon, len(sequence) not a multiple of three. Explicitly trim the sequence or add trailing N before translation. This may become an error in future.\n",
            "  BiopythonWarning,\n"
          ],
          "name": "stderr"
        },
        {
          "output_type": "display_data",
          "data": {
            "image/png": "[encoded data removed]",
            "text/plain": [
              "<Figure size 432x288 with 1 Axes>"
            ]
          },
          "metadata": {
            "tags": []
          }
        }
      ]
    },
    {
      "cell_type": "markdown",
      "metadata": {
        "id": "6xO-DDX4RPOG",
        "colab_type": "text"
      },
      "source": [
        "Here I tried to retrain the model including a larger number of chromosomes but it did not seem to improve. It may be that including an even larger number of chromosomes would be helpful, but due to lack of time I did not. "
      ]
    },
    {
      "cell_type": "code",
      "metadata": {
        "id": "YW9CGaidRfMY",
        "colab_type": "code",
        "colab": {
          "base_uri": "https://localhost:8080/",
          "height": 352
        },
        "outputId": "5ca33a63-ab4c-4693-ac8d-903db469d7e0"
      },
      "source": [
        " #Trying to build a better HMM model\n",
        " hidden_states = ['I', 'E', 'Ig']               # Called \"components\" in this package\n",
        "emission_labels = ['A', 'T', 'C', 'G']   # Called \"fatures\"\n",
        "\n",
        "# Maximum n. iterations performed during training.\n",
        "# The training will stop at this regardless of how close it is to convergence (i.e. best fit to data)\n",
        "# Increasing will increase chances of a better fit but will of course take longer\n",
        "MAX_N_BAUM_WELCH_ITERATIONS = 100\n",
        "\n",
        "# Create model object\n",
        "basic_model = hmm.MultinomialHMM(n_components = len(hidden_states),\n",
        "                                 n_iter = MAX_N_BAUM_WELCH_ITERATIONS,\n",
        "                                 init_params = \"\")\n",
        "\n",
        "# Adjust its parameters\n",
        "basic_model.n_features = len(emission_labels)\n",
        "\n",
        "# Order of elements must match those in the component and features lists above\n",
        "basic_model.startprob_ = np.array([0.2, 0.3, 0.5])\n",
        "basic_model.transmat_ = np.array([[0.99, 0.01, 0],\n",
        "                                  [0.007,  0.99, 0.003],\n",
        "                                  [0, 0.001, 0.999]])\n",
        "\n",
        "# The matrix is expected to be of shape (rows=states x cols=emissions)\n",
        "# Here it's transposed from the form used in lecture slides\n",
        "basic_model.emissionprob_ = np.array([[0.26, 0.24, 0.27],\n",
        "                                      [0.3, 0.21, 0.27],\n",
        "                                      [0.22, 0.27, 0.23],\n",
        "                                      [0.22, 0.28, 0.22]]).T\n",
        "\n",
        "# Preview\n",
        "basic_model\n",
        "#Preparation of training data\n",
        "# Include k chromosomes in training data\n",
        "training_chromosome_idx = [0, 1, 2, 3, 4, 5]\n",
        "\n",
        "trainig_data = np.concatenate(\n",
        "    [np.array(\n",
        "        translate_symbol_sequence_to_numbers(ref_chromosomes[k].seq, emission_labels)\n",
        "        ).reshape(-1, 1)  # makes it a column vector\n",
        "     for k in training_chromosome_idx]\n",
        ")\n",
        "\n",
        "trainig_lengths = [len(ref_chromosomes[k].seq) for k in training_chromosome_idx]\n",
        "\n",
        "# Test on chromosome 1\n",
        "test_data = np.array(\n",
        "    [translate_symbol_sequence_to_numbers(ref_chromosomes[0].seq, emission_labels)]\n",
        ").T\n",
        "#Training\n",
        "t0 = time.time()    # this is just to measure execution time (nothing to do with hmmlearn)\n",
        "np.random.seed(84)  # Make this randomized procedure deterministic (reproducible)\n",
        "\n",
        "basic_model.fit(trainig_data, trainig_lengths)\n",
        "\n",
        "print(f'Training took {time.time() - t0} seconds')\n",
        "#Annotation\n",
        "annotation_numeric = basic_model.predict(test_data)  # numbers == hidden state number\n",
        "annotation = translate_numbers_to_symbol_sequence(annotation_numeric, hidden_states)\n",
        "\n",
        "# Preview first 100 annotated bases\n",
        "annotation[0:1000]\n",
        "\n",
        "gene_positions = get_gene_start_and_stop_from_annotation(annotation, \n",
        "                                                         gene_pattern = 'E+I+')\n",
        "\n",
        "# Preview gene positions\n",
        "gene_positions[0:4]\n",
        "\n",
        "def translate_genes(gene_positions: list, dna_sequence) -> list:\n",
        "    aa_sequences = []\n",
        "    for gene_pos in gene_positions:\n",
        "        aa = dna_sequence[gene_pos[0] : gene_pos[1]].transcribe().translate()\n",
        "        aa_sequences.append(aa)\n",
        "    return aa_sequences\n",
        "\n",
        "aa_sequences = translate_genes(gene_positions, ref_chromosomes[0].seq)\n",
        "\n",
        "# Preview\n",
        "aa_sequences[0]\n",
        "\n",
        "def plot_protein_length_distribution(aa_sequences: list):\n",
        "    import pandas as pd\n",
        "    pd.DataFrame({'gene length': map(lambda s: len(s), aa_sequences)}).hist(log=True)\n",
        "\n",
        "plot_protein_length_distribution(aa_sequences)"
      ],
      "execution_count": 50,
      "outputs": [
        {
          "output_type": "stream",
          "text": [
            "Training took 2316.914821624756 seconds\n"
          ],
          "name": "stdout"
        },
        {
          "output_type": "stream",
          "text": [
            "/usr/local/lib/python3.6/dist-packages/Bio/Seq.py:2859: BiopythonWarning: Partial codon, len(sequence) not a multiple of three. Explicitly trim the sequence or add trailing N before translation. This may become an error in future.\n",
            "  BiopythonWarning,\n"
          ],
          "name": "stderr"
        },
        {
          "output_type": "display_data",
          "data": {
            "image/png": "[encoded data removed]",
            "text/plain": [
              "<Figure size 432x288 with 1 Axes>"
            ]
          },
          "metadata": {
            "tags": []
          }
        }
      ]
    },
    {
      "cell_type": "markdown",
      "metadata": {
        "id": "8MJy2x-PWFHm",
        "colab_type": "text"
      },
      "source": [
        "I increased the number of iterations once more to see if it would make a difference even though by training on the number of chromosomes seemed to lead to a plateau. It seemed to average most genes to a shorter length than the previous model and has more genes above 200 bp but the longest gene is shorter than before (500 bp compared to 800 bp) so we do not get closer to the expected length. However, this is not very surprising because of the way that the model is looking for gene patterns, considering a gene as a string of \"exon\" and \"intron\", whereas a real gene can consist of several exons and introns. Therefore we are obviously splitting most genes and it is hard to get genes of the expected size that consist of only one gene and intron. However, since this model does have a more equal distribution and more \"longer\" genes, I would say the larger number of iterations still improved the model.\n",
        " "
      ]
    },
    {
      "cell_type": "code",
      "metadata": {
        "id": "Sd-X04qEcCcF",
        "colab_type": "code",
        "colab": {
          "base_uri": "https://localhost:8080/",
          "height": 352
        },
        "outputId": "26f79b9f-1c76-47f2-ea17-430fac65a3fd"
      },
      "source": [
        " #Trying to build a better HMM model\n",
        " hidden_states = ['I', 'E', 'Ig']               # Called \"components\" in this package\n",
        "emission_labels = ['A', 'T', 'C', 'G']   # Called \"fatures\"\n",
        "\n",
        "# Maximum n. iterations performed during training.\n",
        "# The training will stop at this regardless of how close it is to convergence (i.e. best fit to data)\n",
        "# Increasing will increase chances of a better fit but will of course take longer\n",
        "MAX_N_BAUM_WELCH_ITERATIONS = 100\n",
        "\n",
        "# Create model object\n",
        "basic_model = hmm.MultinomialHMM(n_components = len(hidden_states),\n",
        "                                 n_iter = MAX_N_BAUM_WELCH_ITERATIONS,\n",
        "                                 init_params = \"\")\n",
        "\n",
        "# Adjust its parameters\n",
        "basic_model.n_features = len(emission_labels)\n",
        "\n",
        "# Order of elements must match those in the component and features lists above\n",
        "basic_model.startprob_ = np.array([0.2, 0.3, 0.5])\n",
        "basic_model.transmat_ = np.array([[0.99, 0.01, 0],\n",
        "                                  [0.007,  0.99, 0.003],\n",
        "                                  [0, 0.001, 0.999]])\n",
        "\n",
        "# The matrix is expected to be of shape (rows=states x cols=emissions)\n",
        "# Here it's transposed from the form used in lecture slides\n",
        "basic_model.emissionprob_ = np.array([[0.26, 0.24, 0.27],\n",
        "                                      [0.3, 0.21, 0.27],\n",
        "                                      [0.22, 0.27, 0.23],\n",
        "                                      [0.22, 0.28, 0.22]]).T\n",
        "\n",
        "# Preview\n",
        "basic_model\n",
        "#Preparation of training data\n",
        "# Include k chromosomes in training data\n",
        "training_chromosome_idx = [0, 1, 2, 3, 4, 5]\n",
        "\n",
        "trainig_data = np.concatenate(\n",
        "    [np.array(\n",
        "        translate_symbol_sequence_to_numbers(ref_chromosomes[k].seq, emission_labels)\n",
        "        ).reshape(-1, 1)  # makes it a column vector\n",
        "     for k in training_chromosome_idx]\n",
        ")\n",
        "\n",
        "trainig_lengths = [len(ref_chromosomes[k].seq) for k in training_chromosome_idx]\n",
        "\n",
        "# Test on chromosome 1\n",
        "test_data = np.array(\n",
        "    [translate_symbol_sequence_to_numbers(ref_chromosomes[0].seq, emission_labels)]\n",
        ").T\n",
        "#Training\n",
        "t0 = time.time()    # this is just to measure execution time (nothing to do with hmmlearn)\n",
        "np.random.seed(84)  # Make this randomized procedure deterministic (reproducible)\n",
        "\n",
        "basic_model.fit(trainig_data, trainig_lengths)\n",
        "\n",
        "print(f'Training took {time.time() - t0} seconds')\n",
        "#Annotation\n",
        "annotation_numeric = basic_model.predict(test_data)  # numbers == hidden state number\n",
        "annotation = translate_numbers_to_symbol_sequence(annotation_numeric, hidden_states)\n",
        "\n",
        "# Preview first 100 annotated bases\n",
        "annotation[0:1000]\n",
        "\n",
        "gene_positions = get_gene_start_and_stop_from_annotation(annotation, \n",
        "                                                         gene_pattern = 'E+I+E+')\n",
        "\n",
        "# Preview gene positions\n",
        "gene_positions[0:4]\n",
        "\n",
        "def translate_genes(gene_positions: list, dna_sequence) -> list:\n",
        "    aa_sequences = []\n",
        "    for gene_pos in gene_positions:\n",
        "        aa = dna_sequence[gene_pos[0] : gene_pos[1]].transcribe().translate()\n",
        "        aa_sequences.append(aa)\n",
        "    return aa_sequences\n",
        "\n",
        "aa_sequences = translate_genes(gene_positions, ref_chromosomes[0].seq)\n",
        "\n",
        "# Preview\n",
        "aa_sequences[0]\n",
        "\n",
        "def plot_protein_length_distribution(aa_sequences: list):\n",
        "    import pandas as pd\n",
        "    pd.DataFrame({'gene length': map(lambda s: len(s), aa_sequences)}).hist(log=True)\n",
        "\n",
        "plot_protein_length_distribution(aa_sequences)"
      ],
      "execution_count": 51,
      "outputs": [
        {
          "output_type": "stream",
          "text": [
            "Training took 2306.622861623764 seconds\n"
          ],
          "name": "stdout"
        },
        {
          "output_type": "stream",
          "text": [
            "/usr/local/lib/python3.6/dist-packages/Bio/Seq.py:2859: BiopythonWarning: Partial codon, len(sequence) not a multiple of three. Explicitly trim the sequence or add trailing N before translation. This may become an error in future.\n",
            "  BiopythonWarning,\n"
          ],
          "name": "stderr"
        },
        {
          "output_type": "display_data",
          "data": {
            "image/png": "[encoded data removed]",
            "text/plain": [
              "<Figure size 432x288 with 1 Axes>"
            ]
          },
          "metadata": {
            "tags": []
          }
        }
      ]
    },
    {
      "cell_type": "markdown",
      "metadata": {
        "id": "X3pRZmFImSMZ",
        "colab_type": "text"
      },
      "source": [
        "So as we see the distribution considerably changes when you change the gene patter that it should find. In this case it finds less genes than before."
      ]
    },
    {
      "cell_type": "code",
      "metadata": {
        "id": "SJO7Fe8HmR1P",
        "colab_type": "code",
        "colab": {}
      },
      "source": [
        ""
      ],
      "execution_count": 0,
      "outputs": []
    },
    {
      "cell_type": "code",
      "metadata": {
        "id": "i16hkxDJD8yh",
        "colab_type": "code",
        "colab": {}
      },
      "source": [
        "def read_protein_sequences_from_fasta(fasta_filename: str) -> list:\n",
        "     return list(SeqIO.parse(fasta_filename, 'fasta'))"
      ],
      "execution_count": 0,
      "outputs": []
    },
    {
      "cell_type": "code",
      "metadata": {
        "id": "yMd9w2-gX0JO",
        "colab_type": "code",
        "colab": {}
      },
      "source": [
        "augustus_seq = read_protein_sequences_from_fasta('data/ref_annot_augustus.aa')"
      ],
      "execution_count": 0,
      "outputs": []
    },
    {
      "cell_type": "code",
      "metadata": {
        "id": "-8walAf2D92e",
        "colab_type": "code",
        "outputId": "d5f2cadb-f868-44b7-e209-2c4b1bd0e1cd",
        "colab": {
          "base_uri": "https://localhost:8080/",
          "height": 34
        }
      },
      "source": [
        "def save_sequences_as_fasta(sequences: list, fasta_filename: str):\n",
        "    fasta_entries = []\n",
        "    for i in range(len(sequences)):\n",
        "        if len(sequences[i]) > 20:   # shortest known protein in any organism\n",
        "            fasta_entries.append(f'>gene{i}\\n{sequences[i]}\\n')\n",
        "    with open(fasta_filename, 'w') as output_fasta:\n",
        "        output_fasta.writelines(fasta_entries)\n",
        "    print(f'INFO: Wrote {len(fasta_entries)} protein sequences')\n",
        "\n",
        "save_sequences_as_fasta(aa_sequences, 'hits.fasta')"
      ],
      "execution_count": 25,
      "outputs": [
        {
          "output_type": "stream",
          "text": [
            "INFO: Wrote 73 protein sequences\n"
          ],
          "name": "stdout"
        }
      ]
    },
    {
      "cell_type": "code",
      "metadata": {
        "id": "0ZSzIp3nfSMs",
        "colab_type": "code",
        "colab": {}
      },
      "source": [
        ""
      ],
      "execution_count": 0,
      "outputs": []
    },
    {
      "cell_type": "markdown",
      "metadata": {
        "id": "3KeA0Fohh2Vj",
        "colab_type": "text"
      },
      "source": [
        "Results from augusts ploted: "
      ]
    },
    {
      "cell_type": "code",
      "metadata": {
        "id": "TzI6kzyYfSAS",
        "colab_type": "code",
        "colab": {
          "base_uri": "https://localhost:8080/",
          "height": 281
        },
        "outputId": "33a60994-afd9-4309-c34a-d04254196bbb"
      },
      "source": [
        "plot_protein_length_distribution(augustus_seq)"
      ],
      "execution_count": 29,
      "outputs": [
        {
          "output_type": "display_data",
          "data": {
            "image/png": "[encoded data removed]",
            "text/plain": [
              "<Figure size 432x288 with 1 Axes>"
            ]
          },
          "metadata": {
            "tags": []
          }
        }
      ]
    },
    {
      "cell_type": "markdown",
      "metadata": {
        "id": "DuF139o88X7f",
        "colab_type": "text"
      },
      "source": [
        "The plot of the results from Augustus shows a more realistic distribution of gene lenghts, considering that the average gene size in S. cerevisiae is 1.6 kb. Therefore, although my new model has a slightly better output than the first one, it is still quite far from Augustus output. It may be that it needs more training data (i.e. it may improve with training over more chromosomes) or simply that the data needs further processing before training the model. It may also be that different parameters are needed for different parts of the genome: i.e. different likelihoods of introns, exons and non-coding regions on different segments of the genome. Therefore, it could help to train on different HMM models with slightly different parameters and see if there is a better one for different parts of the genome. \n",
        "\n",
        "This could also be applied to the different \"structures\" of the genes: different sequences of exons and introns."
      ]
    }
  ]
}